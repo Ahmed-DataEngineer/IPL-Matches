{
 "cells": [
  {
   "cell_type": "code",
   "execution_count": 2,
   "id": "13a3e90f-3f91-45f1-b2e8-c03b49d9e3aa",
   "metadata": {},
   "outputs": [],
   "source": [
    "import pandas as pd"
   ]
  },
  {
   "cell_type": "code",
   "execution_count": 3,
   "id": "248dadba-3598-46f7-8895-57f04216e5a0",
   "metadata": {},
   "outputs": [],
   "source": [
    "import numpy as np"
   ]
  },
  {
   "cell_type": "code",
   "execution_count": 4,
   "id": "3e5a8d05-0623-4ee8-ba40-438f234228eb",
   "metadata": {},
   "outputs": [],
   "source": [
    "from matplotlib import pyplot as plt"
   ]
  },
  {
   "cell_type": "code",
   "execution_count": 5,
   "id": "a7c26109-1177-4fc9-bc17-e3e7a1441cd9",
   "metadata": {},
   "outputs": [],
   "source": [
    "import seaborn as sns"
   ]
  },
  {
   "cell_type": "code",
   "execution_count": 6,
   "id": "617c17bb-5a61-4f8e-9435-6c69a35ef5bb",
   "metadata": {},
   "outputs": [
    {
     "data": {
      "text/html": [
       "<div>\n",
       "<style scoped>\n",
       "    .dataframe tbody tr th:only-of-type {\n",
       "        vertical-align: middle;\n",
       "    }\n",
       "\n",
       "    .dataframe tbody tr th {\n",
       "        vertical-align: top;\n",
       "    }\n",
       "\n",
       "    .dataframe thead th {\n",
       "        text-align: right;\n",
       "    }\n",
       "</style>\n",
       "<table border=\"1\" class=\"dataframe\">\n",
       "  <thead>\n",
       "    <tr style=\"text-align: right;\">\n",
       "      <th></th>\n",
       "      <th>id</th>\n",
       "      <th>season</th>\n",
       "      <th>city</th>\n",
       "      <th>date</th>\n",
       "      <th>match_type</th>\n",
       "      <th>player_of_match</th>\n",
       "      <th>venue</th>\n",
       "      <th>team1</th>\n",
       "      <th>team2</th>\n",
       "      <th>toss_winner</th>\n",
       "      <th>toss_decision</th>\n",
       "      <th>winner</th>\n",
       "      <th>result</th>\n",
       "      <th>result_margin</th>\n",
       "      <th>target_runs</th>\n",
       "      <th>target_overs</th>\n",
       "      <th>super_over</th>\n",
       "      <th>method</th>\n",
       "      <th>umpire1</th>\n",
       "      <th>umpire2</th>\n",
       "    </tr>\n",
       "  </thead>\n",
       "  <tbody>\n",
       "    <tr>\n",
       "      <th>0</th>\n",
       "      <td>335982</td>\n",
       "      <td>2007/08</td>\n",
       "      <td>Bangalore</td>\n",
       "      <td>2008-04-18</td>\n",
       "      <td>League</td>\n",
       "      <td>BB McCullum</td>\n",
       "      <td>M Chinnaswamy Stadium</td>\n",
       "      <td>Royal Challengers Bangalore</td>\n",
       "      <td>Kolkata Knight Riders</td>\n",
       "      <td>Royal Challengers Bangalore</td>\n",
       "      <td>field</td>\n",
       "      <td>Kolkata Knight Riders</td>\n",
       "      <td>runs</td>\n",
       "      <td>140.0</td>\n",
       "      <td>223.0</td>\n",
       "      <td>20.0</td>\n",
       "      <td>N</td>\n",
       "      <td>NaN</td>\n",
       "      <td>Asad Rauf</td>\n",
       "      <td>RE Koertzen</td>\n",
       "    </tr>\n",
       "    <tr>\n",
       "      <th>1</th>\n",
       "      <td>335983</td>\n",
       "      <td>2007/08</td>\n",
       "      <td>Chandigarh</td>\n",
       "      <td>2008-04-19</td>\n",
       "      <td>League</td>\n",
       "      <td>MEK Hussey</td>\n",
       "      <td>Punjab Cricket Association Stadium, Mohali</td>\n",
       "      <td>Kings XI Punjab</td>\n",
       "      <td>Chennai Super Kings</td>\n",
       "      <td>Chennai Super Kings</td>\n",
       "      <td>bat</td>\n",
       "      <td>Chennai Super Kings</td>\n",
       "      <td>runs</td>\n",
       "      <td>33.0</td>\n",
       "      <td>241.0</td>\n",
       "      <td>20.0</td>\n",
       "      <td>N</td>\n",
       "      <td>NaN</td>\n",
       "      <td>MR Benson</td>\n",
       "      <td>SL Shastri</td>\n",
       "    </tr>\n",
       "    <tr>\n",
       "      <th>2</th>\n",
       "      <td>335984</td>\n",
       "      <td>2007/08</td>\n",
       "      <td>Delhi</td>\n",
       "      <td>2008-04-19</td>\n",
       "      <td>League</td>\n",
       "      <td>MF Maharoof</td>\n",
       "      <td>Feroz Shah Kotla</td>\n",
       "      <td>Delhi Daredevils</td>\n",
       "      <td>Rajasthan Royals</td>\n",
       "      <td>Rajasthan Royals</td>\n",
       "      <td>bat</td>\n",
       "      <td>Delhi Daredevils</td>\n",
       "      <td>wickets</td>\n",
       "      <td>9.0</td>\n",
       "      <td>130.0</td>\n",
       "      <td>20.0</td>\n",
       "      <td>N</td>\n",
       "      <td>NaN</td>\n",
       "      <td>Aleem Dar</td>\n",
       "      <td>GA Pratapkumar</td>\n",
       "    </tr>\n",
       "    <tr>\n",
       "      <th>3</th>\n",
       "      <td>335985</td>\n",
       "      <td>2007/08</td>\n",
       "      <td>Mumbai</td>\n",
       "      <td>2008-04-20</td>\n",
       "      <td>League</td>\n",
       "      <td>MV Boucher</td>\n",
       "      <td>Wankhede Stadium</td>\n",
       "      <td>Mumbai Indians</td>\n",
       "      <td>Royal Challengers Bangalore</td>\n",
       "      <td>Mumbai Indians</td>\n",
       "      <td>bat</td>\n",
       "      <td>Royal Challengers Bangalore</td>\n",
       "      <td>wickets</td>\n",
       "      <td>5.0</td>\n",
       "      <td>166.0</td>\n",
       "      <td>20.0</td>\n",
       "      <td>N</td>\n",
       "      <td>NaN</td>\n",
       "      <td>SJ Davis</td>\n",
       "      <td>DJ Harper</td>\n",
       "    </tr>\n",
       "    <tr>\n",
       "      <th>4</th>\n",
       "      <td>335986</td>\n",
       "      <td>2007/08</td>\n",
       "      <td>Kolkata</td>\n",
       "      <td>2008-04-20</td>\n",
       "      <td>League</td>\n",
       "      <td>DJ Hussey</td>\n",
       "      <td>Eden Gardens</td>\n",
       "      <td>Kolkata Knight Riders</td>\n",
       "      <td>Deccan Chargers</td>\n",
       "      <td>Deccan Chargers</td>\n",
       "      <td>bat</td>\n",
       "      <td>Kolkata Knight Riders</td>\n",
       "      <td>wickets</td>\n",
       "      <td>5.0</td>\n",
       "      <td>111.0</td>\n",
       "      <td>20.0</td>\n",
       "      <td>N</td>\n",
       "      <td>NaN</td>\n",
       "      <td>BF Bowden</td>\n",
       "      <td>K Hariharan</td>\n",
       "    </tr>\n",
       "    <tr>\n",
       "      <th>...</th>\n",
       "      <td>...</td>\n",
       "      <td>...</td>\n",
       "      <td>...</td>\n",
       "      <td>...</td>\n",
       "      <td>...</td>\n",
       "      <td>...</td>\n",
       "      <td>...</td>\n",
       "      <td>...</td>\n",
       "      <td>...</td>\n",
       "      <td>...</td>\n",
       "      <td>...</td>\n",
       "      <td>...</td>\n",
       "      <td>...</td>\n",
       "      <td>...</td>\n",
       "      <td>...</td>\n",
       "      <td>...</td>\n",
       "      <td>...</td>\n",
       "      <td>...</td>\n",
       "      <td>...</td>\n",
       "      <td>...</td>\n",
       "    </tr>\n",
       "    <tr>\n",
       "      <th>1090</th>\n",
       "      <td>1426307</td>\n",
       "      <td>2024</td>\n",
       "      <td>Hyderabad</td>\n",
       "      <td>2024-05-19</td>\n",
       "      <td>League</td>\n",
       "      <td>Abhishek Sharma</td>\n",
       "      <td>Rajiv Gandhi International Stadium, Uppal, Hyd...</td>\n",
       "      <td>Punjab Kings</td>\n",
       "      <td>Sunrisers Hyderabad</td>\n",
       "      <td>Punjab Kings</td>\n",
       "      <td>bat</td>\n",
       "      <td>Sunrisers Hyderabad</td>\n",
       "      <td>wickets</td>\n",
       "      <td>4.0</td>\n",
       "      <td>215.0</td>\n",
       "      <td>20.0</td>\n",
       "      <td>N</td>\n",
       "      <td>NaN</td>\n",
       "      <td>Nitin Menon</td>\n",
       "      <td>VK Sharma</td>\n",
       "    </tr>\n",
       "    <tr>\n",
       "      <th>1091</th>\n",
       "      <td>1426309</td>\n",
       "      <td>2024</td>\n",
       "      <td>Ahmedabad</td>\n",
       "      <td>2024-05-21</td>\n",
       "      <td>Qualifier 1</td>\n",
       "      <td>MA Starc</td>\n",
       "      <td>Narendra Modi Stadium, Ahmedabad</td>\n",
       "      <td>Sunrisers Hyderabad</td>\n",
       "      <td>Kolkata Knight Riders</td>\n",
       "      <td>Sunrisers Hyderabad</td>\n",
       "      <td>bat</td>\n",
       "      <td>Kolkata Knight Riders</td>\n",
       "      <td>wickets</td>\n",
       "      <td>8.0</td>\n",
       "      <td>160.0</td>\n",
       "      <td>20.0</td>\n",
       "      <td>N</td>\n",
       "      <td>NaN</td>\n",
       "      <td>AK Chaudhary</td>\n",
       "      <td>R Pandit</td>\n",
       "    </tr>\n",
       "    <tr>\n",
       "      <th>1092</th>\n",
       "      <td>1426310</td>\n",
       "      <td>2024</td>\n",
       "      <td>Ahmedabad</td>\n",
       "      <td>2024-05-22</td>\n",
       "      <td>Eliminator</td>\n",
       "      <td>R Ashwin</td>\n",
       "      <td>Narendra Modi Stadium, Ahmedabad</td>\n",
       "      <td>Royal Challengers Bengaluru</td>\n",
       "      <td>Rajasthan Royals</td>\n",
       "      <td>Rajasthan Royals</td>\n",
       "      <td>field</td>\n",
       "      <td>Rajasthan Royals</td>\n",
       "      <td>wickets</td>\n",
       "      <td>4.0</td>\n",
       "      <td>173.0</td>\n",
       "      <td>20.0</td>\n",
       "      <td>N</td>\n",
       "      <td>NaN</td>\n",
       "      <td>KN Ananthapadmanabhan</td>\n",
       "      <td>MV Saidharshan Kumar</td>\n",
       "    </tr>\n",
       "    <tr>\n",
       "      <th>1093</th>\n",
       "      <td>1426311</td>\n",
       "      <td>2024</td>\n",
       "      <td>Chennai</td>\n",
       "      <td>2024-05-24</td>\n",
       "      <td>Qualifier 2</td>\n",
       "      <td>Shahbaz Ahmed</td>\n",
       "      <td>MA Chidambaram Stadium, Chepauk, Chennai</td>\n",
       "      <td>Sunrisers Hyderabad</td>\n",
       "      <td>Rajasthan Royals</td>\n",
       "      <td>Rajasthan Royals</td>\n",
       "      <td>field</td>\n",
       "      <td>Sunrisers Hyderabad</td>\n",
       "      <td>runs</td>\n",
       "      <td>36.0</td>\n",
       "      <td>176.0</td>\n",
       "      <td>20.0</td>\n",
       "      <td>N</td>\n",
       "      <td>NaN</td>\n",
       "      <td>Nitin Menon</td>\n",
       "      <td>VK Sharma</td>\n",
       "    </tr>\n",
       "    <tr>\n",
       "      <th>1094</th>\n",
       "      <td>1426312</td>\n",
       "      <td>2024</td>\n",
       "      <td>Chennai</td>\n",
       "      <td>2024-05-26</td>\n",
       "      <td>Final</td>\n",
       "      <td>MA Starc</td>\n",
       "      <td>MA Chidambaram Stadium, Chepauk, Chennai</td>\n",
       "      <td>Sunrisers Hyderabad</td>\n",
       "      <td>Kolkata Knight Riders</td>\n",
       "      <td>Sunrisers Hyderabad</td>\n",
       "      <td>bat</td>\n",
       "      <td>Kolkata Knight Riders</td>\n",
       "      <td>wickets</td>\n",
       "      <td>8.0</td>\n",
       "      <td>114.0</td>\n",
       "      <td>20.0</td>\n",
       "      <td>N</td>\n",
       "      <td>NaN</td>\n",
       "      <td>J Madanagopal</td>\n",
       "      <td>Nitin Menon</td>\n",
       "    </tr>\n",
       "  </tbody>\n",
       "</table>\n",
       "<p>1095 rows × 20 columns</p>\n",
       "</div>"
      ],
      "text/plain": [
       "           id   season        city        date   match_type  player_of_match  \\\n",
       "0      335982  2007/08   Bangalore  2008-04-18       League      BB McCullum   \n",
       "1      335983  2007/08  Chandigarh  2008-04-19       League       MEK Hussey   \n",
       "2      335984  2007/08       Delhi  2008-04-19       League      MF Maharoof   \n",
       "3      335985  2007/08      Mumbai  2008-04-20       League       MV Boucher   \n",
       "4      335986  2007/08     Kolkata  2008-04-20       League        DJ Hussey   \n",
       "...       ...      ...         ...         ...          ...              ...   \n",
       "1090  1426307     2024   Hyderabad  2024-05-19       League  Abhishek Sharma   \n",
       "1091  1426309     2024   Ahmedabad  2024-05-21  Qualifier 1         MA Starc   \n",
       "1092  1426310     2024   Ahmedabad  2024-05-22   Eliminator         R Ashwin   \n",
       "1093  1426311     2024     Chennai  2024-05-24  Qualifier 2    Shahbaz Ahmed   \n",
       "1094  1426312     2024     Chennai  2024-05-26        Final         MA Starc   \n",
       "\n",
       "                                                  venue  \\\n",
       "0                                 M Chinnaswamy Stadium   \n",
       "1            Punjab Cricket Association Stadium, Mohali   \n",
       "2                                      Feroz Shah Kotla   \n",
       "3                                      Wankhede Stadium   \n",
       "4                                          Eden Gardens   \n",
       "...                                                 ...   \n",
       "1090  Rajiv Gandhi International Stadium, Uppal, Hyd...   \n",
       "1091                   Narendra Modi Stadium, Ahmedabad   \n",
       "1092                   Narendra Modi Stadium, Ahmedabad   \n",
       "1093           MA Chidambaram Stadium, Chepauk, Chennai   \n",
       "1094           MA Chidambaram Stadium, Chepauk, Chennai   \n",
       "\n",
       "                            team1                        team2  \\\n",
       "0     Royal Challengers Bangalore        Kolkata Knight Riders   \n",
       "1                 Kings XI Punjab          Chennai Super Kings   \n",
       "2                Delhi Daredevils             Rajasthan Royals   \n",
       "3                  Mumbai Indians  Royal Challengers Bangalore   \n",
       "4           Kolkata Knight Riders              Deccan Chargers   \n",
       "...                           ...                          ...   \n",
       "1090                 Punjab Kings          Sunrisers Hyderabad   \n",
       "1091          Sunrisers Hyderabad        Kolkata Knight Riders   \n",
       "1092  Royal Challengers Bengaluru             Rajasthan Royals   \n",
       "1093          Sunrisers Hyderabad             Rajasthan Royals   \n",
       "1094          Sunrisers Hyderabad        Kolkata Knight Riders   \n",
       "\n",
       "                      toss_winner toss_decision                       winner  \\\n",
       "0     Royal Challengers Bangalore         field        Kolkata Knight Riders   \n",
       "1             Chennai Super Kings           bat          Chennai Super Kings   \n",
       "2                Rajasthan Royals           bat             Delhi Daredevils   \n",
       "3                  Mumbai Indians           bat  Royal Challengers Bangalore   \n",
       "4                 Deccan Chargers           bat        Kolkata Knight Riders   \n",
       "...                           ...           ...                          ...   \n",
       "1090                 Punjab Kings           bat          Sunrisers Hyderabad   \n",
       "1091          Sunrisers Hyderabad           bat        Kolkata Knight Riders   \n",
       "1092             Rajasthan Royals         field             Rajasthan Royals   \n",
       "1093             Rajasthan Royals         field          Sunrisers Hyderabad   \n",
       "1094          Sunrisers Hyderabad           bat        Kolkata Knight Riders   \n",
       "\n",
       "       result  result_margin  target_runs  target_overs super_over method  \\\n",
       "0        runs          140.0        223.0          20.0          N    NaN   \n",
       "1        runs           33.0        241.0          20.0          N    NaN   \n",
       "2     wickets            9.0        130.0          20.0          N    NaN   \n",
       "3     wickets            5.0        166.0          20.0          N    NaN   \n",
       "4     wickets            5.0        111.0          20.0          N    NaN   \n",
       "...       ...            ...          ...           ...        ...    ...   \n",
       "1090  wickets            4.0        215.0          20.0          N    NaN   \n",
       "1091  wickets            8.0        160.0          20.0          N    NaN   \n",
       "1092  wickets            4.0        173.0          20.0          N    NaN   \n",
       "1093     runs           36.0        176.0          20.0          N    NaN   \n",
       "1094  wickets            8.0        114.0          20.0          N    NaN   \n",
       "\n",
       "                    umpire1               umpire2  \n",
       "0                 Asad Rauf           RE Koertzen  \n",
       "1                 MR Benson            SL Shastri  \n",
       "2                 Aleem Dar        GA Pratapkumar  \n",
       "3                  SJ Davis             DJ Harper  \n",
       "4                 BF Bowden           K Hariharan  \n",
       "...                     ...                   ...  \n",
       "1090            Nitin Menon             VK Sharma  \n",
       "1091           AK Chaudhary              R Pandit  \n",
       "1092  KN Ananthapadmanabhan  MV Saidharshan Kumar  \n",
       "1093            Nitin Menon             VK Sharma  \n",
       "1094          J Madanagopal           Nitin Menon  \n",
       "\n",
       "[1095 rows x 20 columns]"
      ]
     },
     "execution_count": 6,
     "metadata": {},
     "output_type": "execute_result"
    }
   ],
   "source": [
    "ipl = pd.read_csv(\"matches.csv\")\n",
    "ipl"
   ]
  },
  {
   "cell_type": "code",
   "execution_count": 9,
   "id": "cba14876-9a79-4933-9a7e-b43858e3fff3",
   "metadata": {},
   "outputs": [
    {
     "data": {
      "text/plain": [
       "(1095, 20)"
      ]
     },
     "execution_count": 9,
     "metadata": {},
     "output_type": "execute_result"
    }
   ],
   "source": [
    "ipl.shape"
   ]
  },
  {
   "cell_type": "code",
   "execution_count": 11,
   "id": "6867a15e-fce0-4acf-8253-daf1730e195b",
   "metadata": {},
   "outputs": [
    {
     "data": {
      "text/plain": [
       "player_of_match\n",
       "AB de Villiers       25\n",
       "CH Gayle             22\n",
       "RG Sharma            19\n",
       "DA Warner            18\n",
       "V Kohli              18\n",
       "                     ..\n",
       "NV Ojha               1\n",
       "KV Sharma             1\n",
       "Washington Sundar     1\n",
       "PD Collingwood        1\n",
       "Shahbaz Ahmed         1\n",
       "Name: count, Length: 291, dtype: int64"
      ]
     },
     "execution_count": 11,
     "metadata": {},
     "output_type": "execute_result"
    }
   ],
   "source": [
    "ipl[\"player_of_match\"].value_counts()"
   ]
  },
  {
   "cell_type": "code",
   "execution_count": 13,
   "id": "ec1d55c3-909c-4fce-bc40-8685c0a6bc2f",
   "metadata": {},
   "outputs": [
    {
     "data": {
      "text/plain": [
       "player_of_match\n",
       "AB de Villiers    25\n",
       "CH Gayle          22\n",
       "RG Sharma         19\n",
       "DA Warner         18\n",
       "V Kohli           18\n",
       "Name: count, dtype: int64"
      ]
     },
     "execution_count": 13,
     "metadata": {},
     "output_type": "execute_result"
    }
   ],
   "source": [
    "ipl[\"player_of_match\"].value_counts()[0:5]"
   ]
  },
  {
   "cell_type": "code",
   "execution_count": 15,
   "id": "057fab6e-e639-4d3b-b53e-ba9ffa9cc2b1",
   "metadata": {},
   "outputs": [
    {
     "data": {
      "text/plain": [
       "['AB de Villiers', 'CH Gayle', 'RG Sharma', 'DA Warner', 'V Kohli']"
      ]
     },
     "execution_count": 15,
     "metadata": {},
     "output_type": "execute_result"
    }
   ],
   "source": [
    "list(ipl[\"player_of_match\"].value_counts()[0:5].keys())"
   ]
  },
  {
   "cell_type": "code",
   "execution_count": 17,
   "id": "421e956b-fced-4574-972b-eb6553744936",
   "metadata": {},
   "outputs": [
    {
     "data": {
      "text/plain": [
       "<BarContainer object of 5 artists>"
      ]
     },
     "execution_count": 17,
     "metadata": {},
     "output_type": "execute_result"
    },
    {
     "data": {
      "image/png": "[encoded data removed]",
      "text/plain": [
       "<Figure size 500x500 with 1 Axes>"
      ]
     },
     "metadata": {},
     "output_type": "display_data"
    }
   ],
   "source": [
    "plt.figure(figsize=(5,5))\n",
    "plt.bar(list(ipl[\"player_of_match\"].value_counts()[0:5].keys()),list(ipl[\"player_of_match\"].value_counts()[0:5]),color=\"orange\")"
   ]
  },
  {
   "cell_type": "code",
   "execution_count": 18,
   "id": "373fe48f-8080-4413-bcbf-0c3114d1120a",
   "metadata": {},
   "outputs": [
    {
     "data": {
      "text/plain": [
       "player_of_match\n",
       "AB de Villiers       25\n",
       "CH Gayle             22\n",
       "RG Sharma            19\n",
       "DA Warner            18\n",
       "V Kohli              18\n",
       "                     ..\n",
       "NV Ojha               1\n",
       "KV Sharma             1\n",
       "Washington Sundar     1\n",
       "PD Collingwood        1\n",
       "Shahbaz Ahmed         1\n",
       "Name: count, Length: 291, dtype: int64"
      ]
     },
     "execution_count": 18,
     "metadata": {},
     "output_type": "execute_result"
    }
   ],
   "source": [
    "ipl[\"player_of_match\"].value_counts()"
   ]
  },
  {
   "cell_type": "code",
   "execution_count": 19,
   "id": "3cb7393f-cfc6-4653-9c83-33d4cc0ad2b8",
   "metadata": {},
   "outputs": [
    {
     "data": {
      "text/plain": [
       "result\n",
       "wickets      578\n",
       "runs         498\n",
       "tie           14\n",
       "no result      5\n",
       "Name: count, dtype: int64"
      ]
     },
     "execution_count": 19,
     "metadata": {},
     "output_type": "execute_result"
    }
   ],
   "source": [
    "ipl[\"result\"].value_counts()"
   ]
  },
  {
   "cell_type": "code",
   "execution_count": 20,
   "id": "c416e326-4b23-44ff-808b-97b19b715e71",
   "metadata": {},
   "outputs": [
    {
     "data": {
      "text/plain": [
       "winner\n",
       "Mumbai Indians                 144\n",
       "Chennai Super Kings            138\n",
       "Kolkata Knight Riders          131\n",
       "Royal Challengers Bangalore    116\n",
       "Rajasthan Royals               112\n",
       "Kings XI Punjab                 88\n",
       "Sunrisers Hyderabad             88\n",
       "Delhi Daredevils                67\n",
       "Delhi Capitals                  48\n",
       "Deccan Chargers                 29\n",
       "Gujarat Titans                  28\n",
       "Lucknow Super Giants            24\n",
       "Punjab Kings                    24\n",
       "Gujarat Lions                   13\n",
       "Pune Warriors                   12\n",
       "Rising Pune Supergiant          10\n",
       "Royal Challengers Bengaluru      7\n",
       "Kochi Tuskers Kerala             6\n",
       "Rising Pune Supergiants          5\n",
       "Name: count, dtype: int64"
      ]
     },
     "execution_count": 20,
     "metadata": {},
     "output_type": "execute_result"
    }
   ],
   "source": [
    "ipl[\"winner\"].value_counts()"
   ]
  },
  {
   "cell_type": "code",
   "execution_count": 24,
   "id": "b00db47a-2195-4c87-8744-b13bed2528b8",
   "metadata": {},
   "outputs": [
    {
     "data": {
      "image/png": "[encoded data removed]",
      "text/plain": [
       "<Figure size 500x500 with 1 Axes>"
      ]
     },
     "metadata": {},
     "output_type": "display_data"
    }
   ],
   "source": [
    "plt.figure(figsize=(5,5))\n",
    "plt.hist(ipl[\"winner\"].value_counts(),bins=5,color=\"purple\")\n",
    "plt.title(\"histogram\")\n",
    "plt.xlabel(\"Winners\")\n",
    "plt.show()"
   ]
  },
  {
   "cell_type": "code",
   "execution_count": 28,
   "id": "e9262e06-3baa-4de8-ac1a-4e559a762975",
   "metadata": {},
   "outputs": [
    {
     "data": {
      "image/png": "[encoded data removed]",
      "text/plain": [
       "<Figure size 500x500 with 1 Axes>"
      ]
     },
     "metadata": {},
     "output_type": "display_data"
    }
   ],
   "source": [
    "plt.figure(figsize=(5,5))\n",
    "plt.bar(list(ipl[\"winner\"].value_counts()[0:5].keys()),list(ipl[\"winner\"].value_counts()[0:5]),color=[\"red\",\"blue\",\"yellow\",\"green\",\"blue\"])\n",
    "plt.show()"
   ]
  },
  {
   "cell_type": "code",
   "execution_count": 29,
   "id": "b9127324-b57c-4ca2-b48c-65500edf8a8f",
   "metadata": {},
   "outputs": [
    {
     "data": {
      "image/png": "[encoded data removed]",
      "text/plain": [
       "<Figure size 500x500 with 1 Axes>"
      ]
     },
     "metadata": {},
     "output_type": "display_data"
    }
   ],
   "source": [
    "plt.figure(figsize=(5,5))\n",
    "plt.pie(list(ipl[\"winner\"].value_counts()[0:5]),labels=list(ipl[\"winner\"].value_counts()[0:5].keys()),autopct=\"%0.1f%%\")\n",
    "plt.show()"
   ]
  },
  {
   "cell_type": "code",
   "execution_count": 30,
   "id": "1511655d-4df9-4709-8ff3-16aa94321249",
   "metadata": {},
   "outputs": [
    {
     "data": {
      "text/plain": [
       "['Mumbai Indians',\n",
       " 'Chennai Super Kings',\n",
       " 'Kolkata Knight Riders',\n",
       " 'Royal Challengers Bangalore',\n",
       " 'Rajasthan Royals',\n",
       " 'Kings XI Punjab',\n",
       " 'Sunrisers Hyderabad',\n",
       " 'Delhi Daredevils',\n",
       " 'Delhi Capitals',\n",
       " 'Deccan Chargers',\n",
       " 'Gujarat Titans',\n",
       " 'Lucknow Super Giants',\n",
       " 'Punjab Kings',\n",
       " 'Gujarat Lions',\n",
       " 'Pune Warriors',\n",
       " 'Rising Pune Supergiant',\n",
       " 'Royal Challengers Bengaluru',\n",
       " 'Kochi Tuskers Kerala',\n",
       " 'Rising Pune Supergiants']"
      ]
     },
     "execution_count": 30,
     "metadata": {},
     "output_type": "execute_result"
    }
   ],
   "source": [
    "list(ipl[\"winner\"].value_counts().keys())"
   ]
  },
  {
   "cell_type": "code",
   "execution_count": 39,
   "id": "12c6934b-d40c-411e-a3fa-790d4b9c9f1c",
   "metadata": {},
   "outputs": [
    {
     "data": {
      "image/png": "[encoded data removed]",
      "text/plain": [
       "<Figure size 500x500 with 1 Axes>"
      ]
     },
     "metadata": {},
     "output_type": "display_data"
    }
   ],
   "source": [
    "plt.figure(figsize=(5,5))\n",
    "plt.hist(list(ipl[\"winner\"]),bins=5)\n",
    "plt.title(\"Histogram\")\n",
    "plt.xlabel(\"Match\")\n",
    "plt.show()"
   ]
  },
  {
   "cell_type": "code",
   "execution_count": 40,
   "id": "b7d7cc85-7aa4-4057-999b-48a393c9f168",
   "metadata": {},
   "outputs": [
    {
     "data": {
      "image/png": "[encoded data removed]",
      "text/plain": [
       "<Figure size 500x500 with 1 Axes>"
      ]
     },
     "metadata": {},
     "output_type": "display_data"
    }
   ],
   "source": [
    "plt.figure(figsize=(5,5))\n",
    "plt.bar(list(ipl[\"winner\"].value_counts()[0:5].keys()),list(ipl[\"winner\"].value_counts()[0:5]),color=[\"red\",\"blue\",\"yellow\",\"green\",\"blue\"])\n",
    "plt.show()"
   ]
  },
  {
   "cell_type": "code",
   "execution_count": 41,
   "id": "137514e1-4e10-4867-a992-afe07a00c9bc",
   "metadata": {},
   "outputs": [
    {
     "data": {
      "image/png": "[encoded data removed]",
      "text/plain": [
       "<Figure size 500x500 with 1 Axes>"
      ]
     },
     "metadata": {},
     "output_type": "display_data"
    }
   ],
   "source": [
    "plt.figure(figsize=(5,5))\n",
    "plt.pie(list(ipl[\"winner\"].value_counts()),labels=list(ipl[\"winner\"].value_counts().keys()),autopct=\"%0.1f%%\")\n",
    "plt.show()"
   ]
  },
  {
   "cell_type": "code",
   "execution_count": 42,
   "id": "3d779803-fec2-421d-9784-a70c64925df7",
   "metadata": {},
   "outputs": [
    {
     "data": {
      "text/plain": [
       "date\n",
       "2017-04-09    2\n",
       "2022-04-30    2\n",
       "2022-04-17    2\n",
       "2014-04-19    2\n",
       "2014-04-18    2\n",
       "             ..\n",
       "2016-04-15    1\n",
       "2016-04-18    1\n",
       "2016-04-19    1\n",
       "2016-04-20    1\n",
       "2024-05-26    1\n",
       "Name: count, Length: 823, dtype: int64"
      ]
     },
     "execution_count": 42,
     "metadata": {},
     "output_type": "execute_result"
    }
   ],
   "source": [
    "ipl[\"date\"].value_counts()"
   ]
  },
  {
   "cell_type": "code",
   "execution_count": 43,
   "id": "2ede254a-3e27-4400-b61a-f590b85ded27",
   "metadata": {},
   "outputs": [
    {
     "data": {
      "text/plain": [
       "city\n",
       "Mumbai            173\n",
       "Kolkata            93\n",
       "Delhi              90\n",
       "Chennai            85\n",
       "Hyderabad          77\n",
       "Bangalore          65\n",
       "Chandigarh         61\n",
       "Jaipur             57\n",
       "Pune               51\n",
       "Abu Dhabi          37\n",
       "Ahmedabad          36\n",
       "Bengaluru          29\n",
       "Durban             15\n",
       "Visakhapatnam      15\n",
       "Lucknow            14\n",
       "Dubai              13\n",
       "Dharamsala         13\n",
       "Centurion          12\n",
       "Rajkot             10\n",
       "Sharjah            10\n",
       "Indore              9\n",
       "Navi Mumbai         9\n",
       "Johannesburg        8\n",
       "Cuttack             7\n",
       "Port Elizabeth      7\n",
       "Ranchi              7\n",
       "Cape Town           7\n",
       "Raipur              6\n",
       "Mohali              5\n",
       "Kochi               5\n",
       "Kanpur              4\n",
       "Kimberley           3\n",
       "East London         3\n",
       "Guwahati            3\n",
       "Nagpur              3\n",
       "Bloemfontein        2\n",
       "Name: count, dtype: int64"
      ]
     },
     "execution_count": 43,
     "metadata": {},
     "output_type": "execute_result"
    }
   ],
   "source": [
    "ipl[\"city\"].value_counts()"
   ]
  },
  {
   "cell_type": "code",
   "execution_count": 44,
   "id": "c553a4a5-1fb5-4a38-84aa-01e69fe3a197",
   "metadata": {},
   "outputs": [
    {
     "data": {
      "text/plain": [
       "np.int64(554)"
      ]
     },
     "execution_count": 44,
     "metadata": {},
     "output_type": "execute_result"
    }
   ],
   "source": [
    "np.sum(ipl[\"toss_winner\"]==ipl[\"winner\"])"
   ]
  },
  {
   "cell_type": "code",
   "execution_count": 6,
   "id": "cedfaa16-bbb7-4e3c-bed7-5127c9fd70c6",
   "metadata": {},
   "outputs": [
    {
     "data": {
      "text/html": [
       "<div>\n",
       "<style scoped>\n",
       "    .dataframe tbody tr th:only-of-type {\n",
       "        vertical-align: middle;\n",
       "    }\n",
       "\n",
       "    .dataframe tbody tr th {\n",
       "        vertical-align: top;\n",
       "    }\n",
       "\n",
       "    .dataframe thead th {\n",
       "        text-align: right;\n",
       "    }\n",
       "</style>\n",
       "<table border=\"1\" class=\"dataframe\">\n",
       "  <thead>\n",
       "    <tr style=\"text-align: right;\">\n",
       "      <th></th>\n",
       "      <th>match_id</th>\n",
       "      <th>season</th>\n",
       "      <th>match_no</th>\n",
       "      <th>date</th>\n",
       "      <th>venue</th>\n",
       "      <th>batting_team</th>\n",
       "      <th>bowling_team</th>\n",
       "      <th>innings</th>\n",
       "      <th>over</th>\n",
       "      <th>striker</th>\n",
       "      <th>...</th>\n",
       "      <th>bowler</th>\n",
       "      <th>runs_of_bat</th>\n",
       "      <th>extras</th>\n",
       "      <th>wide</th>\n",
       "      <th>legbyes</th>\n",
       "      <th>byes</th>\n",
       "      <th>noballs</th>\n",
       "      <th>wicket_type</th>\n",
       "      <th>player_dismissed</th>\n",
       "      <th>fielder</th>\n",
       "    </tr>\n",
       "  </thead>\n",
       "  <tbody>\n",
       "    <tr>\n",
       "      <th>0</th>\n",
       "      <td>202401</td>\n",
       "      <td>2024</td>\n",
       "      <td>1</td>\n",
       "      <td>22-03-2024</td>\n",
       "      <td>MA Chidambaram Stadium, Chepauk, Chennai, Chennai</td>\n",
       "      <td>RCB</td>\n",
       "      <td>CSK</td>\n",
       "      <td>1</td>\n",
       "      <td>0.1</td>\n",
       "      <td>V Kohli</td>\n",
       "      <td>...</td>\n",
       "      <td>DL Chahar</td>\n",
       "      <td>0</td>\n",
       "      <td>1</td>\n",
       "      <td>1</td>\n",
       "      <td>0</td>\n",
       "      <td>0</td>\n",
       "      <td>0</td>\n",
       "      <td>nil</td>\n",
       "      <td>nil</td>\n",
       "      <td>nil</td>\n",
       "    </tr>\n",
       "    <tr>\n",
       "      <th>1</th>\n",
       "      <td>202401</td>\n",
       "      <td>2024</td>\n",
       "      <td>1</td>\n",
       "      <td>22-03-2024</td>\n",
       "      <td>MA Chidambaram Stadium, Chepauk, Chennai, Chennai</td>\n",
       "      <td>RCB</td>\n",
       "      <td>CSK</td>\n",
       "      <td>1</td>\n",
       "      <td>0.1</td>\n",
       "      <td>V Kohli</td>\n",
       "      <td>...</td>\n",
       "      <td>DL Chahar</td>\n",
       "      <td>1</td>\n",
       "      <td>0</td>\n",
       "      <td>0</td>\n",
       "      <td>0</td>\n",
       "      <td>0</td>\n",
       "      <td>0</td>\n",
       "      <td>nil</td>\n",
       "      <td>nil</td>\n",
       "      <td>nil</td>\n",
       "    </tr>\n",
       "    <tr>\n",
       "      <th>2</th>\n",
       "      <td>202401</td>\n",
       "      <td>2024</td>\n",
       "      <td>1</td>\n",
       "      <td>22-03-2024</td>\n",
       "      <td>MA Chidambaram Stadium, Chepauk, Chennai, Chennai</td>\n",
       "      <td>RCB</td>\n",
       "      <td>CSK</td>\n",
       "      <td>1</td>\n",
       "      <td>0.2</td>\n",
       "      <td>F du Plessis</td>\n",
       "      <td>...</td>\n",
       "      <td>DL Chahar</td>\n",
       "      <td>0</td>\n",
       "      <td>0</td>\n",
       "      <td>0</td>\n",
       "      <td>0</td>\n",
       "      <td>0</td>\n",
       "      <td>0</td>\n",
       "      <td>nil</td>\n",
       "      <td>nil</td>\n",
       "      <td>nil</td>\n",
       "    </tr>\n",
       "    <tr>\n",
       "      <th>3</th>\n",
       "      <td>202401</td>\n",
       "      <td>2024</td>\n",
       "      <td>1</td>\n",
       "      <td>22-03-2024</td>\n",
       "      <td>MA Chidambaram Stadium, Chepauk, Chennai, Chennai</td>\n",
       "      <td>RCB</td>\n",
       "      <td>CSK</td>\n",
       "      <td>1</td>\n",
       "      <td>0.3</td>\n",
       "      <td>F du Plessis</td>\n",
       "      <td>...</td>\n",
       "      <td>DL Chahar</td>\n",
       "      <td>0</td>\n",
       "      <td>0</td>\n",
       "      <td>0</td>\n",
       "      <td>0</td>\n",
       "      <td>0</td>\n",
       "      <td>0</td>\n",
       "      <td>nil</td>\n",
       "      <td>nil</td>\n",
       "      <td>nil</td>\n",
       "    </tr>\n",
       "    <tr>\n",
       "      <th>4</th>\n",
       "      <td>202401</td>\n",
       "      <td>2024</td>\n",
       "      <td>1</td>\n",
       "      <td>22-03-2024</td>\n",
       "      <td>MA Chidambaram Stadium, Chepauk, Chennai, Chennai</td>\n",
       "      <td>RCB</td>\n",
       "      <td>CSK</td>\n",
       "      <td>1</td>\n",
       "      <td>0.4</td>\n",
       "      <td>F du Plessis</td>\n",
       "      <td>...</td>\n",
       "      <td>DL Chahar</td>\n",
       "      <td>0</td>\n",
       "      <td>0</td>\n",
       "      <td>0</td>\n",
       "      <td>0</td>\n",
       "      <td>0</td>\n",
       "      <td>0</td>\n",
       "      <td>nil</td>\n",
       "      <td>nil</td>\n",
       "      <td>nil</td>\n",
       "    </tr>\n",
       "    <tr>\n",
       "      <th>...</th>\n",
       "      <td>...</td>\n",
       "      <td>...</td>\n",
       "      <td>...</td>\n",
       "      <td>...</td>\n",
       "      <td>...</td>\n",
       "      <td>...</td>\n",
       "      <td>...</td>\n",
       "      <td>...</td>\n",
       "      <td>...</td>\n",
       "      <td>...</td>\n",
       "      <td>...</td>\n",
       "      <td>...</td>\n",
       "      <td>...</td>\n",
       "      <td>...</td>\n",
       "      <td>...</td>\n",
       "      <td>...</td>\n",
       "      <td>...</td>\n",
       "      <td>...</td>\n",
       "      <td>...</td>\n",
       "      <td>...</td>\n",
       "      <td>...</td>\n",
       "    </tr>\n",
       "    <tr>\n",
       "      <th>17098</th>\n",
       "      <td>202474</td>\n",
       "      <td>2024</td>\n",
       "      <td>74</td>\n",
       "      <td>26-05-2024</td>\n",
       "      <td>MA Chidambaram Stadium, Chepauk, Chennai, Chennai</td>\n",
       "      <td>KKR</td>\n",
       "      <td>SRH</td>\n",
       "      <td>2</td>\n",
       "      <td>9.5</td>\n",
       "      <td>SS Iyer</td>\n",
       "      <td>...</td>\n",
       "      <td>AK Markram</td>\n",
       "      <td>1</td>\n",
       "      <td>0</td>\n",
       "      <td>0</td>\n",
       "      <td>0</td>\n",
       "      <td>0</td>\n",
       "      <td>0</td>\n",
       "      <td>nil</td>\n",
       "      <td>nil</td>\n",
       "      <td>nil</td>\n",
       "    </tr>\n",
       "    <tr>\n",
       "      <th>17099</th>\n",
       "      <td>202474</td>\n",
       "      <td>2024</td>\n",
       "      <td>74</td>\n",
       "      <td>26-05-2024</td>\n",
       "      <td>MA Chidambaram Stadium, Chepauk, Chennai, Chennai</td>\n",
       "      <td>KKR</td>\n",
       "      <td>SRH</td>\n",
       "      <td>2</td>\n",
       "      <td>9.6</td>\n",
       "      <td>VR Iyer</td>\n",
       "      <td>...</td>\n",
       "      <td>AK Markram</td>\n",
       "      <td>1</td>\n",
       "      <td>0</td>\n",
       "      <td>0</td>\n",
       "      <td>0</td>\n",
       "      <td>0</td>\n",
       "      <td>0</td>\n",
       "      <td>nil</td>\n",
       "      <td>nil</td>\n",
       "      <td>nil</td>\n",
       "    </tr>\n",
       "    <tr>\n",
       "      <th>17100</th>\n",
       "      <td>202474</td>\n",
       "      <td>2024</td>\n",
       "      <td>74</td>\n",
       "      <td>26-05-2024</td>\n",
       "      <td>MA Chidambaram Stadium, Chepauk, Chennai, Chennai</td>\n",
       "      <td>KKR</td>\n",
       "      <td>SRH</td>\n",
       "      <td>2</td>\n",
       "      <td>10.1</td>\n",
       "      <td>VR Iyer</td>\n",
       "      <td>...</td>\n",
       "      <td>Shahbaz Ahmed</td>\n",
       "      <td>1</td>\n",
       "      <td>0</td>\n",
       "      <td>0</td>\n",
       "      <td>0</td>\n",
       "      <td>0</td>\n",
       "      <td>0</td>\n",
       "      <td>nil</td>\n",
       "      <td>nil</td>\n",
       "      <td>nil</td>\n",
       "    </tr>\n",
       "    <tr>\n",
       "      <th>17101</th>\n",
       "      <td>202474</td>\n",
       "      <td>2024</td>\n",
       "      <td>74</td>\n",
       "      <td>26-05-2024</td>\n",
       "      <td>MA Chidambaram Stadium, Chepauk, Chennai, Chennai</td>\n",
       "      <td>KKR</td>\n",
       "      <td>SRH</td>\n",
       "      <td>2</td>\n",
       "      <td>10.2</td>\n",
       "      <td>SS Iyer</td>\n",
       "      <td>...</td>\n",
       "      <td>Shahbaz Ahmed</td>\n",
       "      <td>1</td>\n",
       "      <td>0</td>\n",
       "      <td>0</td>\n",
       "      <td>0</td>\n",
       "      <td>0</td>\n",
       "      <td>0</td>\n",
       "      <td>nil</td>\n",
       "      <td>nil</td>\n",
       "      <td>nil</td>\n",
       "    </tr>\n",
       "    <tr>\n",
       "      <th>17102</th>\n",
       "      <td>202474</td>\n",
       "      <td>2024</td>\n",
       "      <td>74</td>\n",
       "      <td>26-05-2024</td>\n",
       "      <td>MA Chidambaram Stadium, Chepauk, Chennai, Chennai</td>\n",
       "      <td>KKR</td>\n",
       "      <td>SRH</td>\n",
       "      <td>2</td>\n",
       "      <td>10.3</td>\n",
       "      <td>VR Iyer</td>\n",
       "      <td>...</td>\n",
       "      <td>Shahbaz Ahmed</td>\n",
       "      <td>1</td>\n",
       "      <td>0</td>\n",
       "      <td>0</td>\n",
       "      <td>0</td>\n",
       "      <td>0</td>\n",
       "      <td>0</td>\n",
       "      <td>nil</td>\n",
       "      <td>nil</td>\n",
       "      <td>nil</td>\n",
       "    </tr>\n",
       "  </tbody>\n",
       "</table>\n",
       "<p>17103 rows × 21 columns</p>\n",
       "</div>"
      ],
      "text/plain": [
       "       match_id  season  match_no        date  \\\n",
       "0        202401    2024         1  22-03-2024   \n",
       "1        202401    2024         1  22-03-2024   \n",
       "2        202401    2024         1  22-03-2024   \n",
       "3        202401    2024         1  22-03-2024   \n",
       "4        202401    2024         1  22-03-2024   \n",
       "...         ...     ...       ...         ...   \n",
       "17098    202474    2024        74  26-05-2024   \n",
       "17099    202474    2024        74  26-05-2024   \n",
       "17100    202474    2024        74  26-05-2024   \n",
       "17101    202474    2024        74  26-05-2024   \n",
       "17102    202474    2024        74  26-05-2024   \n",
       "\n",
       "                                                   venue batting_team  \\\n",
       "0      MA Chidambaram Stadium, Chepauk, Chennai, Chennai          RCB   \n",
       "1      MA Chidambaram Stadium, Chepauk, Chennai, Chennai          RCB   \n",
       "2      MA Chidambaram Stadium, Chepauk, Chennai, Chennai          RCB   \n",
       "3      MA Chidambaram Stadium, Chepauk, Chennai, Chennai          RCB   \n",
       "4      MA Chidambaram Stadium, Chepauk, Chennai, Chennai          RCB   \n",
       "...                                                  ...          ...   \n",
       "17098  MA Chidambaram Stadium, Chepauk, Chennai, Chennai          KKR   \n",
       "17099  MA Chidambaram Stadium, Chepauk, Chennai, Chennai          KKR   \n",
       "17100  MA Chidambaram Stadium, Chepauk, Chennai, Chennai          KKR   \n",
       "17101  MA Chidambaram Stadium, Chepauk, Chennai, Chennai          KKR   \n",
       "17102  MA Chidambaram Stadium, Chepauk, Chennai, Chennai          KKR   \n",
       "\n",
       "      bowling_team  innings  over       striker  ...         bowler  \\\n",
       "0              CSK        1   0.1       V Kohli  ...      DL Chahar   \n",
       "1              CSK        1   0.1       V Kohli  ...      DL Chahar   \n",
       "2              CSK        1   0.2  F du Plessis  ...      DL Chahar   \n",
       "3              CSK        1   0.3  F du Plessis  ...      DL Chahar   \n",
       "4              CSK        1   0.4  F du Plessis  ...      DL Chahar   \n",
       "...            ...      ...   ...           ...  ...            ...   \n",
       "17098          SRH        2   9.5       SS Iyer  ...     AK Markram   \n",
       "17099          SRH        2   9.6       VR Iyer  ...     AK Markram   \n",
       "17100          SRH        2  10.1       VR Iyer  ...  Shahbaz Ahmed   \n",
       "17101          SRH        2  10.2       SS Iyer  ...  Shahbaz Ahmed   \n",
       "17102          SRH        2  10.3       VR Iyer  ...  Shahbaz Ahmed   \n",
       "\n",
       "      runs_of_bat  extras  wide  legbyes  byes  noballs  wicket_type  \\\n",
       "0               0       1     1        0     0        0          nil   \n",
       "1               1       0     0        0     0        0          nil   \n",
       "2               0       0     0        0     0        0          nil   \n",
       "3               0       0     0        0     0        0          nil   \n",
       "4               0       0     0        0     0        0          nil   \n",
       "...           ...     ...   ...      ...   ...      ...          ...   \n",
       "17098           1       0     0        0     0        0          nil   \n",
       "17099           1       0     0        0     0        0          nil   \n",
       "17100           1       0     0        0     0        0          nil   \n",
       "17101           1       0     0        0     0        0          nil   \n",
       "17102           1       0     0        0     0        0          nil   \n",
       "\n",
       "      player_dismissed fielder  \n",
       "0                  nil     nil  \n",
       "1                  nil     nil  \n",
       "2                  nil     nil  \n",
       "3                  nil     nil  \n",
       "4                  nil     nil  \n",
       "...                ...     ...  \n",
       "17098              nil     nil  \n",
       "17099              nil     nil  \n",
       "17100              nil     nil  \n",
       "17101              nil     nil  \n",
       "17102              nil     nil  \n",
       "\n",
       "[17103 rows x 21 columns]"
      ]
     },
     "execution_count": 6,
     "metadata": {},
     "output_type": "execute_result"
    }
   ],
   "source": [
    "ball=pd.read_csv(\"ball.csv\")\n",
    "ball"
   ]
  },
  {
   "cell_type": "code",
   "execution_count": 7,
   "id": "2c1f21f6-b690-4fc1-a45f-07c8afb9c53e",
   "metadata": {},
   "outputs": [
    {
     "data": {
      "text/plain": [
       "array([202401, 202402, 202403, 202404, 202405, 202406, 202407, 202408,\n",
       "       202409, 202410, 202411, 202412, 202413, 202414, 202415, 202416,\n",
       "       202417, 202418, 202419, 202420, 202421, 202422, 202423, 202424,\n",
       "       202425, 202426, 202427, 202428, 202429, 202430, 202431, 202432,\n",
       "       202433, 202434, 202435, 202436, 202437, 202438, 202439, 202440,\n",
       "       202441, 202442, 202443, 202444, 202445, 202446, 202447, 202448,\n",
       "       202449, 202450, 202451, 202452, 202453, 202454, 202455, 202456,\n",
       "       202457, 202458, 202459, 202460, 202461, 202462, 202464, 202465,\n",
       "       202467, 202468, 202469, 202471, 202472, 202473, 202474])"
      ]
     },
     "execution_count": 7,
     "metadata": {},
     "output_type": "execute_result"
    }
   ],
   "source": [
    "ball[\"match_id\"].unique()"
   ]
  },
  {
   "cell_type": "code",
   "execution_count": 8,
   "id": "36a6b679-f78d-40bc-aa15-6e239c5034a6",
   "metadata": {},
   "outputs": [],
   "source": [
    "match=ball[ball[\"match_id\"]==1]"
   ]
  },
  {
   "cell_type": "code",
   "execution_count": 10,
   "id": "a8c0615e-8bb1-4ef6-99d4-a9ab9ea22c41",
   "metadata": {},
   "outputs": [
    {
     "data": {
      "text/html": [
       "<div>\n",
       "<style scoped>\n",
       "    .dataframe tbody tr th:only-of-type {\n",
       "        vertical-align: middle;\n",
       "    }\n",
       "\n",
       "    .dataframe tbody tr th {\n",
       "        vertical-align: top;\n",
       "    }\n",
       "\n",
       "    .dataframe thead th {\n",
       "        text-align: right;\n",
       "    }\n",
       "</style>\n",
       "<table border=\"1\" class=\"dataframe\">\n",
       "  <thead>\n",
       "    <tr style=\"text-align: right;\">\n",
       "      <th></th>\n",
       "      <th>match_id</th>\n",
       "      <th>season</th>\n",
       "      <th>match_no</th>\n",
       "      <th>date</th>\n",
       "      <th>venue</th>\n",
       "      <th>batting_team</th>\n",
       "      <th>bowling_team</th>\n",
       "      <th>innings</th>\n",
       "      <th>over</th>\n",
       "      <th>striker</th>\n",
       "      <th>...</th>\n",
       "      <th>bowler</th>\n",
       "      <th>runs_of_bat</th>\n",
       "      <th>extras</th>\n",
       "      <th>wide</th>\n",
       "      <th>legbyes</th>\n",
       "      <th>byes</th>\n",
       "      <th>noballs</th>\n",
       "      <th>wicket_type</th>\n",
       "      <th>player_dismissed</th>\n",
       "      <th>fielder</th>\n",
       "    </tr>\n",
       "  </thead>\n",
       "  <tbody>\n",
       "  </tbody>\n",
       "</table>\n",
       "<p>0 rows × 21 columns</p>\n",
       "</div>"
      ],
      "text/plain": [
       "Empty DataFrame\n",
       "Columns: [match_id, season, match_no, date, venue, batting_team, bowling_team, innings, over, striker, non_striker, bowler, runs_of_bat, extras, wide, legbyes, byes, noballs, wicket_type, player_dismissed, fielder]\n",
       "Index: []\n",
       "\n",
       "[0 rows x 21 columns]"
      ]
     },
     "execution_count": 10,
     "metadata": {},
     "output_type": "execute_result"
    }
   ],
   "source": [
    "match.head()"
   ]
  },
  {
   "cell_type": "code",
   "execution_count": 9,
   "id": "287444fb-4c9b-4d95-8bee-f0d9c6227e54",
   "metadata": {},
   "outputs": [
    {
     "data": {
      "text/plain": [
       "(0, 21)"
      ]
     },
     "execution_count": 9,
     "metadata": {},
     "output_type": "execute_result"
    }
   ],
   "source": [
    "match.shape"
   ]
  },
  {
   "cell_type": "code",
   "execution_count": 11,
   "id": "9985b4b4-f2d7-464c-af56-bb2598fee8dd",
   "metadata": {},
   "outputs": [
    {
     "data": {
      "text/plain": [
       "wicket_type\n",
       "nil                      16220\n",
       "caught                     644\n",
       "bowled                     123\n",
       "runout                      52\n",
       "lbw                         50\n",
       "stumped                     13\n",
       "obstructing the field        1\n",
       "Name: count, dtype: int64"
      ]
     },
     "execution_count": 11,
     "metadata": {},
     "output_type": "execute_result"
    }
   ],
   "source": [
    "ball[\"wicket_type\"].value_counts()"
   ]
  },
  {
   "cell_type": "code",
   "execution_count": 12,
   "id": "78b33937-dafc-4f76-9487-12d76b74d0cd",
   "metadata": {},
   "outputs": [
    {
     "data": {
      "text/plain": [
       "player_dismissed\n",
       "nil                  16220\n",
       "F du Plessis            15\n",
       "Abhishek Sharma         15\n",
       "Ishan Kishan            14\n",
       "YBK Jaiswal             14\n",
       "                     ...  \n",
       "K Rabada                 1\n",
       "Vijaykumar Vyshak        1\n",
       "Mayank Dagar             1\n",
       "Tanush Kotian            1\n",
       "JA Richardson            1\n",
       "Name: count, Length: 154, dtype: int64"
      ]
     },
     "execution_count": 12,
     "metadata": {},
     "output_type": "execute_result"
    }
   ],
   "source": [
    "ball[\"player_dismissed\"].value_counts()"
   ]
  },
  {
   "cell_type": "code",
   "execution_count": 14,
   "id": "c8ac8d1e-5fe6-474d-98f7-c9da6906e526",
   "metadata": {},
   "outputs": [
    {
     "data": {
      "image/png": "[encoded data removed]",
      "text/plain": [
       "<Figure size 500x500 with 1 Axes>"
      ]
     },
     "metadata": {},
     "output_type": "display_data"
    }
   ],
   "source": [
    "plt.figure(figsize=(5,5))\n",
    "plt.pie(list(ball[\"player_dismissed\"].value_counts()[0:5]),labels=list(ball[\"player_dismissed\"].value_counts()[0:5].keys()),autopct=\"%0.1f%%\")\n",
    "plt.show()"
   ]
  },
  {
   "cell_type": "code",
   "execution_count": null,
   "id": "ffc928e4-859b-47bd-a9b4-94c4957f9365",
   "metadata": {},
   "outputs": [],
   "source": []
  }
 ],
 "metadata": {
  "kernelspec": {
   "display_name": "Python 3 (ipykernel)",
   "language": "python",
   "name": "python3"
  },
  "language_info": {
   "codemirror_mode": {
    "name": "ipython",
    "version": 3
   },
   "file_extension": ".py",
   "mimetype": "text/x-python",
   "name": "python",
   "nbconvert_exporter": "python",
   "pygments_lexer": "ipython3",
   "version": "3.12.5"
  }
 },
 "nbformat": 4,
 "nbformat_minor": 5
}
